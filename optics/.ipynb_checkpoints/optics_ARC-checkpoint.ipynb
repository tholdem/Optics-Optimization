{
 "cells": [
  {
   "cell_type": "code",
   "execution_count": 1,
   "metadata": {},
   "outputs": [
    {
     "name": "stderr",
     "output_type": "stream",
     "text": [
      "┌ Info: Precompiling Optim [429524aa-4258-5aef-a3af-852621145aeb]\n",
      "└ @ Base loading.jl:1278\n"
     ]
    }
   ],
   "source": [
    "using LinearAlgebra,Polynomials,Printf,Random,ForwardDiff,PyPlot,PyCall,FFTW,Zygote,Optim,LaTeXStrings,FiniteDifferences"
   ]
  },
  {
   "cell_type": "code",
   "execution_count": 2,
   "metadata": {},
   "outputs": [
    {
     "data": {
      "text/plain": [
       "PyObject <module 'numpy' from 'C:\\\\Users\\\\bryan\\\\.julia\\\\Conda_env\\\\lib\\\\site-packages\\\\numpy\\\\__init__.py'>"
      ]
     },
     "execution_count": 2,
     "metadata": {},
     "output_type": "execute_result"
    }
   ],
   "source": [
    "np=pyimport(\"numpy\")"
   ]
  },
  {
   "cell_type": "markdown",
   "metadata": {},
   "source": [
    "## ARC Functions"
   ]
  },
  {
   "cell_type": "code",
   "execution_count": 9,
   "metadata": {},
   "outputs": [
    {
     "data": {
      "text/plain": [
       "cubicReg (generic function with 1 method)"
      ]
     },
     "execution_count": 9,
     "metadata": {},
     "output_type": "execute_result"
    }
   ],
   "source": [
    "function ARCSubproblem(gx,B,v1,lambda1,sigma,kappa_easy,subMaxIts)\n",
    "# Usage: p = ARCSubproblem(gx,B,v1,lambda1,sigma,kappa_easy,maxIts)\n",
    "#adapted from Algorithm 7.3.6, Conn et al 2000, Algorithm 4.3, Nocedal\n",
    "#and Wright, 2006, and Cartis et al 2011\n",
    "\n",
    "#subout returns -1 if Hessian is ill-conditioned, 0 if maxIts is reached, 1\n",
    "#if a good solution is found, 2 if an edge case is reached\n",
    "\n",
    "lambda = max(0,-lambda1)\n",
    "#small value to resolve numerical instability from eig and chol\n",
    "if lambda != 0 #strictly greater than\n",
    "    lambda = lambda + eps(lambda)\n",
    "end\n",
    "Delta = lambda/sigma\n",
    "\n",
    "B1=deepcopy(B)\n",
    "\n",
    "i=0\n",
    "\n",
    "#we are trying to find the global minimizer of m(p). It should satisfy\n",
    "#1. (B+lambda*I)p = -g\n",
    "#2. lambda^2 = sigma^2*norm(p)\n",
    "#see Eqn (6.1) in Cartis et al 2011\n",
    "while true\n",
    "    i=i+1\n",
    "    #increment diagonal more efficiently than whole-matrix addition\n",
    "    B1[1:1+size(B1,1):end] = diag(B).+lambda\n",
    "    C = cholesky(B1,check=false)\n",
    "    flag = LinearAlgebra.issuccess(C)\n",
    "    k = 0\n",
    "    lambda_const = eps(lambda)\n",
    "    #fail to be positive definite\n",
    "    while flag == 0\n",
    "        k = k+1\n",
    "        B1[1:1+size(B1,1):end] = diag(B1).+lambda_const\n",
    "        C = cholesky(B1,check=false)\n",
    "        flag = LinearAlgebra.issuccess(C)\n",
    "        # gradually increase the constant to reduce iterations\n",
    "        lambda_const = min(lambda_const*2,abs(lambda1))\n",
    "        if k > subMaxIts\n",
    "            p = zeros(size(gx))\n",
    "            # -1 = failed to find cholesky\n",
    "            return p,(info=-1,iter=i)\n",
    "        end\n",
    "    end\n",
    "    p = -C.U\\(C.L\\gx)\n",
    "    normp = norm(p)\n",
    "    if i == subMaxIts\n",
    "        # 0 = maxIts reached\n",
    "        return p,(info=0,iter=i)\n",
    "    end\n",
    "    if abs(normp-Delta) < kappa_easy\n",
    "        # 1 = good solution found\n",
    "        return p,(info=1,iter=i)\n",
    "    end\n",
    "    if normp <= Delta\n",
    "        if lambda == 0 || normp == Delta\n",
    "            # 2 = edge case\n",
    "            return p,(info=2,iter=i)\n",
    "        else #\"hard case\", Nocedal and Wright, 2006 P88 Equation 4.45\n",
    "            #%also see Algorithm 7.3.6, P199 of Conn 2000\n",
    "            #fprintf('A wild \"hard case\" appeared!\\n');\n",
    "            #1*tau^2+0*tau+(norm^2-Delta^2)=0\n",
    "            #normp is the same as the expression cuz the first eigenvector\n",
    "            #dot gx is zero\n",
    "            #hp = [1 0 norm(V(:,2:end)'*gx./(evals(2:end)+lambda))^2-Delta^2];\n",
    "            # find the larger root of the quadratic equation\n",
    "            tau = maximum(roots(Polynomial([1,0,normp^2-Delta^2])))\n",
    "            p = tau*v1 + p\n",
    "        end\n",
    "    end\n",
    "    q = C.L\\p\n",
    "    if lambda < eps(lambda)\n",
    "        lambda = lambda + lambda_const\n",
    "    else\n",
    "        #Newton method to update lambda, simplified version of phi(lambda)/phi'(lambda) eqn (6.7) and (6.10) in Nocedal\n",
    "        #and Wright\n",
    "        lambda = lambda + lambda*(normp-Delta)/(normp+Delta*lambda*(norm(q)/normp)^2)\n",
    "    end\n",
    "    Delta = lambda/sigma\n",
    "end\n",
    "end\n",
    "\n",
    "#output structs\n",
    "mutable struct Output\n",
    "    errHistory::Array{Float64,1}\n",
    "    gradnorm::Array{Float64,1}\n",
    "    xnorm::Array{Float64,1}\n",
    "    sigma::Array{Float64,1}\n",
    "    rho::Array{Float64,1}\n",
    "    info::Int\n",
    "    iter::Int\n",
    "    subout::Array{NamedTuple,1}\n",
    "end\n",
    "\"\"\"\n",
    "#forcing AD hessian to be Zygote only didn't work\n",
    "function my_jacobian(f, x::AbstractArray)\n",
    "    y, back  = Zygote.pullback(vec∘f, x)\n",
    "    k, n = length(y), length(x)\n",
    "    e_array = Matrix(I,k,k)\n",
    "    slices = map(1:k) do i\n",
    "        b = back(e_array[:,i])[1]\n",
    "        b===nothing ? falses(n) : vec(b)\n",
    "    end\n",
    "    (reduce(hcat, slices),)\n",
    "end\n",
    "my_hessian(f, x::AbstractArray) = my_jacobian(x -> Zygote.gradient(f, x)[1], x)[1]\n",
    "\"\"\"\n",
    "function symmetricADHessian(f,x)\n",
    "    Hx = Zygote.hessian(f,x)\n",
    "    #Hx = my_hessian(f,x)\n",
    "    return LinearAlgebra.tril(Hx,-1)+LinearAlgebra.tril(Hx)'\n",
    "end\n",
    "\n",
    "\n",
    "function cubicReg(f,x;grad=x->Zygote.gradient(f,x),H=x->symmetricADHessian(f,x),errFcn=x->f(x), errTol=1e-10,maxIts=1e4,subMaxIts=500,sigma=1,sigma_min=1e-3,eta1=0.1,eta2=0.9,kappa_easy=1e-4)\n",
    "\n",
    "    #m-function to compute rho\n",
    "    m(p,gx,Hx,sigma) = dot(p,gx) + 0.5 * dot(Hx*p,p) + 1/3*sigma*norm(p)^3\n",
    "    fx = f(x)\n",
    "    gx = grad(x)\n",
    "\n",
    "    out = Output([],[],[],[],[],-9,-9,[])\n",
    "    push!(out.errHistory,errFcn(x))\n",
    "    push!(out.gradnorm,norm(gx))\n",
    "    push!(out.xnorm,norm(x))\n",
    "\n",
    "    Hx = H(x)\n",
    "    E = eigen(Hx)\n",
    "    #leftmost eigenvalue/vector\n",
    "    v1 = E.vectors[:,1]\n",
    "    lambda1 = E.values[1]\n",
    "    i=0\n",
    "    while true\n",
    "        i=i+1\n",
    "        push!(out.sigma,sigma)\n",
    "        p,subout = ARCSubproblem(gx,Hx,v1,lambda1,sigma,kappa_easy,subMaxIts)\n",
    "        push!(out.subout,subout)\n",
    "        #failed cholesky, terminate\n",
    "        if subout.info == -1\n",
    "            out.info = -1;\n",
    "            out.iter = i-1;\n",
    "            return x,out\n",
    "        end\n",
    "        rho = (fx-f(x+p))/(-m(p,gx,Hx,sigma))\n",
    "        push!(out.rho,rho)\n",
    "        #reach maxIts\n",
    "        if i == maxIts\n",
    "            out.info  = 0\n",
    "            out.iter = maxIts\n",
    "            return x,out\n",
    "        end\n",
    "        if rho >= eta1\n",
    "            x = x + p\n",
    "            #@printf \"norm(x)=%f\\n\" norm(x)\n",
    "            fx = f(x)\n",
    "            gx = grad(x)\n",
    "            #stopping-criteria reached\n",
    "            if abs(fx) < errTol\n",
    "                push!(out.errHistory,errFcn(x))\n",
    "                push!(out.gradnorm,norm(gx))\n",
    "                push!(out.xnorm,norm(x))\n",
    "                out.iter = i\n",
    "                out.info = 1\n",
    "                return x,out\n",
    "            end\n",
    "            #only compute the next Hessian and eig if necessary\n",
    "            Hx = H(x);\n",
    "            E = eigen(Hx)\n",
    "            v1 = E.vectors[:,1]\n",
    "            lambda1 = E.values[1]\n",
    "            #if very successful, expand TR radius\n",
    "            if rho > eta2\n",
    "               sigma = max(0.5 * sigma,sigma_min)\n",
    "            end\n",
    "        #unsuccessful, shrink TR radius and reuse other variables\n",
    "        else\n",
    "            sigma = 2 * sigma\n",
    "        end\n",
    "        push!(out.errHistory,errFcn(x))\n",
    "        push!(out.gradnorm,norm(gx))\n",
    "        push!(out.xnorm,norm(x))\n",
    "    end\n",
    "end\n"
   ]
  },
  {
   "cell_type": "markdown",
   "metadata": {},
   "source": [
    "## Optic Functions"
   ]
  },
  {
   "cell_type": "code",
   "execution_count": 118,
   "metadata": {},
   "outputs": [
    {
     "data": {
      "text/plain": [
       "L_star (generic function with 1 method)"
      ]
     },
     "execution_count": 118,
     "metadata": {},
     "output_type": "execute_result"
    }
   ],
   "source": [
    "function make_prop_kernel( sz, z; dl=2,lmbd=0.5)\n",
    "    nx = sz[1]\n",
    "    ny = sz[2]\n",
    "    k=2*pi/lmbd # wavenumber\n",
    "    dkx=2*pi/((nx-1)*dl)\n",
    "    dky=2*pi/((ny-1)*dl)\n",
    "    kx=(LinRange(0,nx-1,nx).-nx/2)*dkx\n",
    "    ky=(LinRange(0,ny-1,ny).-ny/2)*dky\n",
    "\n",
    "    inflate(f, kx, ky) = [f(x,y) for x in kx, y in ky]\n",
    "    f(kx,ky)=exp(1im*sqrt(k^2-kx^2-ky^2)*z)\n",
    "\n",
    "    prop_kernel=inflate(f,kx,ky)\n",
    "\n",
    "    prop_kernel = ifftshift(prop_kernel)\n",
    "    \n",
    "    return prop_kernel\n",
    "end\n",
    "\n",
    "function light_prop(e_in, prop_kernel,pfft,pifft)\n",
    "    #if ndims(e_in) == 3\n",
    "     #   prop_kernel = reshape(prop_kernel,(1,size(prop_kernel)...))\n",
    "    #end\n",
    "    ek_in  = pfft*ifftshift(e_in)\n",
    "    ek_out = ek_in.*prop_kernel\n",
    "    e_out  = fftshift(pifft.scale.*(pifft.p*ek_out)) #Zygote can't handle pifft directly\n",
    "    return e_out\n",
    "end\n",
    "\n",
    "function phase_mod(e_in, theta; samp_ratio=1)\n",
    "    #=\n",
    "    e_in is the input field\n",
    "    theta is the phase mask\n",
    "    samp_ratio is the pixel size ratio between the phase mask and the e field \n",
    "    =#\n",
    "    if ndims(e_in) == 2\n",
    "        if samp_ratio == 1\n",
    "            e_out = e_in.*exp.(1im*theta)\n",
    "        else\n",
    "            e_out = e_in.*kron(exp.(1im*theta),ones((samp_ratio,samp_ratio)))\n",
    "        end\n",
    "    elseif ndims(e_in) == 3\n",
    "        if samp_ratio == 1\n",
    "            M = exp.(1im*theta)\n",
    "            #e_out = e_in.*reshape(M,(1,size(M)...))\n",
    "            e_out = e_in.*M\n",
    "        else\n",
    "            M = kron(exp.(1im*theta),ones((samp_ratio,samp_ratio)))\n",
    "            #e_out = e_in.*reshape(M,(1,size(M)...))\n",
    "            e_out = e_in.*M\n",
    "        end\n",
    "    end\n",
    "    return e_out\n",
    "end\n",
    "\n",
    "#forward propagation\n",
    "function propagatedOutput(e_in,airKernels,theta,pfft,pifft)\n",
    "    e_out = e_in\n",
    "    for jj = 1:size(theta,3)  # loop over plate\n",
    "        e_out = light_prop(e_out, airKernels[:,:,jj],pfft,pifft)\n",
    "        e_out = phase_mod(e_out, theta[:,:,jj], samp_ratio=1)\n",
    "    end\n",
    "    return e_out\n",
    "end\n",
    "\n",
    "function L(input,airKernels,e_in_post,theta,j,pfft,pifft)\n",
    "    #e_in_post is the e_in after the first air propagation. It is constant so we can precompute and save time.\n",
    "    output = e_in_post .* reshape(input,size(e_in_post)[1:2])\n",
    "    for ii = 1:size(theta,3)  # loop over plate\n",
    "        if ii == j\n",
    "            output = light_prop(output, airKernels[:,:,ii+1],pfft,pifft)\n",
    "        else\n",
    "            output = phase_mod(output, theta[:,:,ii], samp_ratio=1)\n",
    "            output = light_prop(output, airKernels[:,:,ii+1],pfft,pifft)\n",
    "        end\n",
    "    end\n",
    "    return output\n",
    "end\n",
    "function L_star(input,airKernels,e_in_post,theta,j,pfft,pifft)\n",
    "    #e_in_post is the e_in after the first air propagation. It is constant so we can precompute and save time.\n",
    "    output = input\n",
    "    for ii = size(theta,3):-1:1  # loop over plate\n",
    "        if ii == j\n",
    "            output = light_prop(output, airKernels[:,:,ii+1],pfft,pifft)\n",
    "        else\n",
    "            output = light_prop(output, airKernels[:,:,ii+1],pfft,pifft)\n",
    "            output = phase_mod(output, theta[:,:,ii], samp_ratio=1)\n",
    "        end\n",
    "    end\n",
    "    return vec(sum(e_in_post.*output,dims=3))\n",
    "end"
   ]
  },
  {
   "cell_type": "markdown",
   "metadata": {},
   "source": [
    "## main()"
   ]
  },
  {
   "cell_type": "code",
   "execution_count": 111,
   "metadata": {
    "scrolled": true
   },
   "outputs": [
    {
     "data": {
      "image/png": "[encoded data removed]",
      "text/plain": [
       "Figure(PyObject <Figure size 640x480 with 2 Axes>)"
      ]
     },
     "metadata": {},
     "output_type": "display_data"
    },
    {
     "data": {
      "image/png": "[encoded data removed]",
      "text/plain": [
       "Figure(PyObject <Figure size 640x480 with 2 Axes>)"
      ]
     },
     "metadata": {},
     "output_type": "display_data"
    },
    {
     "data": {
      "image/png": "[encoded data removed]",
      "text/plain": [
       "Figure(PyObject <Figure size 640x480 with 2 Axes>)"
      ]
     },
     "metadata": {},
     "output_type": "display_data"
    },
    {
     "data": {
      "text/plain": [
       "PyObject <matplotlib.colorbar.Colorbar object at 0x0000000060BF8D90>"
      ]
     },
     "execution_count": 111,
     "metadata": {},
     "output_type": "execute_result"
    }
   ],
   "source": [
    "#reducing pixels resulted in very strange looking desired output\n",
    "nx = 2\n",
    "ny = 2\n",
    "npl = 5\n",
    "\n",
    "\n",
    "# wavelength\n",
    "lmbd = 0.5 # in um\n",
    "# pixel size\n",
    "dl = 5 # unit um\n",
    "\n",
    "x=(LinRange(0,nx-1,nx).-nx/2)*dl\n",
    "y=(LinRange(0,ny-1,ny).-ny/2)*dl\n",
    "\n",
    "#no idea what this is doing, is s_input the coordinate to create Gaussian spots?\n",
    "s_input = Matrix(undef,sum(1:npl-1),2)\n",
    "p = 25 # pitch\n",
    "k=0\n",
    "for  ii =1:npl-1\n",
    "    ys = -ii*p*sqrt(2)/2\n",
    "    for jj =0:ii-1\n",
    "        k+=1\n",
    "        xs = ys + jj*p*sqrt(2)\n",
    "        s_input[k,:]=[xs,ys]\n",
    "    end\n",
    "end\n",
    "\n",
    "nmod = size(s_input,1)\n",
    "e_in = zeros(ny,nx,nmod)#why ny nx?\n",
    "w_in = 6# beam width\n",
    "inflate(f, x, y, i) = [f(xx,yy,i) for xx in x, yy in y]\n",
    "#Gaussian\n",
    "f(x,y,i)=exp(-((x-s_input[i,1])^2+(y-s_input[i,2])^2)/w_in^2)\n",
    "for ii = 1:nmod\n",
    "    e = inflate(f,x,y,ii)\n",
    "    I = sum(abs2,e)\n",
    "    e_in[:,:,ii] = e'/sqrt(I) #normalize, x,y very confusing!!!\n",
    "end\n",
    "\n",
    "#precompute the plan to avoid AD the plan function\n",
    "pfft = plan_fft(e_in)\n",
    "pifft = plan_ifft(e_in)\n",
    "\n",
    "fig, ax = plt.subplots()\n",
    "image=ax.imshow(dropdims(sum(e_in, dims=3),dims=3))\n",
    "cbar=plt.colorbar(image)  \n",
    "\n",
    "# output\n",
    "e_target = zeros(ny, nx, nmod) #why ny nx?\n",
    "w_target = 50\n",
    "inflate(f, x, y) = [f(xx,yy) for xx in x, yy in y]\n",
    "f(x,y)=exp(-(x^2+y^2)/w_target^2)\n",
    "M = inflate(f,x,y)\n",
    "\n",
    "for  ii = 1:npl-1\n",
    "    for jj = 1:ii\n",
    "        c = zeros(jj,ii-jj+1)\n",
    "        c[jj,ii-jj+1]=1\n",
    "        #only get the last term?\n",
    "        e = np.polynomial.hermite.hermgrid2d(sqrt(2)*x/w_target, sqrt(2)*y/w_target, c).*M\n",
    "        I = sum(abs2,e)\n",
    "        kk = fld(ii*(ii-1),2)+jj# list index (it's actually just 1:10)\n",
    "        e_target[:,:,kk] = e/sqrt(I)\n",
    "    end\n",
    "end\n",
    "\n",
    "fig, ax = subplots()\n",
    "image=ax.imshow(e_target[:,:,1])\n",
    "cbar=colorbar(image)\n",
    "fig, ax = subplots()\n",
    "image=ax.imshow(e_target[:,:,5])\n",
    "cbar=colorbar(image)"
   ]
  },
  {
   "cell_type": "code",
   "execution_count": 112,
   "metadata": {},
   "outputs": [],
   "source": [
    "d = [2e4,2.5e4,2.5e4,2.5e4,2.5e4,2e4]\n",
    "#air propagtion is a constant linear operator so we can precompute it\n",
    "airKernels   = zeros(ComplexF64,(nx,ny,npl+1))\n",
    "for jj = 1:npl+1\n",
    "  airKernels[:,:,jj] = make_prop_kernel( (nx,ny), d[jj],dl=dl,lmbd=lmbd)\n",
    "end"
   ]
  },
  {
   "cell_type": "markdown",
   "metadata": {},
   "source": [
    "## Objective Function"
   ]
  },
  {
   "cell_type": "code",
   "execution_count": 113,
   "metadata": {},
   "outputs": [
    {
     "data": {
      "text/plain": [
       "grad_f (generic function with 3 methods)"
      ]
     },
     "execution_count": 113,
     "metadata": {},
     "output_type": "execute_result"
    }
   ],
   "source": [
    "#sum of frobenius norm squared is the same as frobenius norm of the 3D array squared\n",
    "mat(x) = reshape(x,(nx,ny,npl))\n",
    "f(x)=1/2*norm(propagatedOutput(e_in,airKernels,mat(x),pfft,pifft)-e_target)^2\n",
    "\n",
    "function grad_f(x,mat,airKernels,e_in_post,e_target,pfft,pifft)\n",
    "    g(x)=exp.(x.*im)\n",
    "    X = mat(x)\n",
    "    grad = zeros(size(X)[1]*size(X)[2],size(X)[3])\n",
    "    for j = 1:size(X,3)\n",
    "        xj = X[:,:,j]\n",
    "        g_xj = g(xj)\n",
    "        input = L(g_xj.*xj,airKernels,e_in_post,X,j,pfft,pifft)-(e_target.+0im)\n",
    "        grad[:,j] = real(L_star(input,airKernels,e_in_post,X,j,pfft,pifft))\n",
    "    end\n",
    "    return vec(grad)\n",
    "end"
   ]
  },
  {
   "cell_type": "code",
   "execution_count": 120,
   "metadata": {},
   "outputs": [
    {
     "data": {
      "text/plain": [
       "10.724133849233237"
      ]
     },
     "execution_count": 120,
     "metadata": {},
     "output_type": "execute_result"
    }
   ],
   "source": [
    "e_in_post = light_prop(e_in, airKernels[:,:,1],pfft,pifft)\n",
    "x0=randn(npl*nx*ny)\n",
    "f(x0)"
   ]
  },
  {
   "cell_type": "code",
   "execution_count": 121,
   "metadata": {},
   "outputs": [
    {
     "data": {
      "text/plain": [
       "20-element Array{Float64,1}:\n",
       "  0.09191176097456658\n",
       "  0.4034771106692939\n",
       " -0.05651061572900171\n",
       " -3.687056509482018\n",
       "  0.019978277401891543\n",
       "  0.9719335585066264\n",
       " -0.03806133744886977\n",
       "  0.7831921065544429\n",
       " -0.05691211918151598\n",
       " -0.901424934253962\n",
       "  0.05153621227764095\n",
       "  1.2184891791744399\n",
       "  0.016111472704205446\n",
       " -0.25331698156768756\n",
       " -0.1125380092215704\n",
       " -3.4058590806567888\n",
       "  0.04323717709737396\n",
       " -0.8302350758590897\n",
       "  0.013119598290727265\n",
       " -2.5534437420237213"
      ]
     },
     "execution_count": 121,
     "metadata": {},
     "output_type": "execute_result"
    }
   ],
   "source": [
    "grad_f(x0,mat,airKernels,e_in_post,e_target,pfft,pifft)"
   ]
  },
  {
   "cell_type": "code",
   "execution_count": 122,
   "metadata": {
    "scrolled": false
   },
   "outputs": [
    {
     "data": {
      "text/plain": [
       "20-element Array{Float64,1}:\n",
       "  0.002350506478545753\n",
       " -0.005688220333244371\n",
       " -0.004458211500758821\n",
       " -0.8014192121720961\n",
       " -0.3193079241866048\n",
       " -0.09471242750793646\n",
       " -0.6796164965241074\n",
       "  0.28442171068992483\n",
       "  0.328078874050806\n",
       "  0.1229040382421372\n",
       " -0.74314138375807\n",
       " -0.5170566660590517\n",
       "  0.3461584680075043\n",
       " -0.1020225999000366\n",
       " -0.3925593432582437\n",
       " -0.6607916623760001\n",
       " -0.6401116087515475\n",
       " -0.22742851636259256\n",
       "  0.11967742101413807\n",
       " -0.06135243342744801"
      ]
     },
     "execution_count": 122,
     "metadata": {},
     "output_type": "execute_result"
    }
   ],
   "source": [
    "grad(central_fdm(5, 1), f, x0)[1]"
   ]
  },
  {
   "cell_type": "code",
   "execution_count": 72,
   "metadata": {
    "scrolled": false
   },
   "outputs": [
    {
     "data": {
      "text/latex": [
       "Let $\\mathcal{Y}$ be the $10$ by $n_x$ by $n_y$ output of forward propagation and $\\mathcal{Y}^i$ is the output of the $i$th light component. Our loss function is\n",
       "$$\\ell(\\mathcal{Y}) = \\sum_{i=1}^{10}||\\mathcal{Y}^i - \\mathcal{Y}_{target}^i||_F^2.$$\n",
       "\n",
       "For each $\\mathcal{Y}^i$, we start with a predetermined Gaussian input $E_{in}^i$. Let $x = [x1;x2;x3;x4;x5]$.\n",
       "\n",
       "$$\\mathcal{Y}^i(x) = A_6 \\circ P_5(x_5) \\circ A_5 \\circ P_4(x_4) \\circ A_4 \\circ P_3(x_3) \\circ A_3 \\circ P_2(x_2) \\circ A_2 \\circ P_1(x_1) \\circ A_1 (E_{in}^i)$$\n",
       "\n",
       "where $A_j$ stands for the air propagation operator. Let $\\mathcal{K}_j$ be the precomputed air propagation kernel for the $j$th propagation, then\n",
       "\n",
       "$$A_j(E^i) = \\text{fftshift(ifft}(\\mathcal{K_j} * (\\text{fft(ifftshift}(E^i)))))=(\\text{fftshift}\\circ\\text{ifft}\\circ \\mathcal{K}_j \\circ \\text{fft} \\circ \\text{ifftshift})(E^i).$$\n",
       "\n",
       "$P_j$ stands for the phase modulation operator which is unitary and norm-preserving:\n",
       "\n",
       "$$P_j(E^i) = E^i * \\text{mat}(\\exp.(x_j * \\mathscr{i}\\ ))$$\n",
       "\n",
       "where $x_j$ is the vectorized $j$th plate input of the objective function and $\\text{mat}$ is matricization. Note that $*$ is elementwise (Hadamard) multiplication,$\\exp.()$ is broadcasting to all elements of the input matrix, and $\\mathscr{i}$ is the imaginary number.\n"
      ],
      "text/plain": [
       "L\"Let $\\mathcal{Y}$ be the $10$ by $n_x$ by $n_y$ output of forward propagation and $\\mathcal{Y}^i$ is the output of the $i$th light component. Our loss function is\n",
       "$$\\ell(\\mathcal{Y}) = \\sum_{i=1}^{10}||\\mathcal{Y}^i - \\mathcal{Y}_{target}^i||_F^2.$$\n",
       "\n",
       "For each $\\mathcal{Y}^i$, we start with a predetermined Gaussian input $E_{in}^i$. Let $x = [x1;x2;x3;x4;x5]$.\n",
       "\n",
       "$$\\mathcal{Y}^i(x) = A_6 \\circ P_5(x_5) \\circ A_5 \\circ P_4(x_4) \\circ A_4 \\circ P_3(x_3) \\circ A_3 \\circ P_2(x_2) \\circ A_2 \\circ P_1(x_1) \\circ A_1 (E_{in}^i)$$\n",
       "\n",
       "where $A_j$ stands for the air propagation operator. Let $\\mathcal{K}_j$ be the precomputed air propagation kernel for the $j$th propagation, then\n",
       "\n",
       "$$A_j(E^i) = \\text{fftshift(ifft}(\\mathcal{K_j} * (\\text{fft(ifftshift}(E^i)))))=(\\text{fftshift}\\circ\\text{ifft}\\circ \\mathcal{K}_j \\circ \\text{fft} \\circ \\text{ifftshift})(E^i).$$\n",
       "\n",
       "$P_j$ stands for the phase modulation operator which is unitary and norm-preserving:\n",
       "\n",
       "$$P_j(E^i) = E^i * \\text{mat}(\\exp.(x_j * \\mathscr{i}\\ ))$$\n",
       "\n",
       "where $x_j$ is the vectorized $j$th plate input of the objective function and $\\text{mat}$ is matricization. Note that $*$ is elementwise (Hadamard) multiplication,$\\exp.()$ is broadcasting to all elements of the input matrix, and $\\mathscr{i}$ is the imaginary number.\n",
       "\""
      ]
     },
     "execution_count": 72,
     "metadata": {},
     "output_type": "execute_result"
    }
   ],
   "source": [
    "L\"\"\"\n",
    "Let $\\mathcal{Y}$ be the $10$ by $n_x$ by $n_y$ output of forward propagation and $\\mathcal{Y}^i$ is the output of the $i$th light component. Our loss function is\n",
    "$$\\ell(\\mathcal{Y}) = \\sum_{i=1}^{10}||\\mathcal{Y}^i - \\mathcal{Y}_{target}^i||_F^2.$$\n",
    "\n",
    "For each $\\mathcal{Y}^i$, we start with a predetermined Gaussian input $E_{in}^i$. Let $x = [x1;x2;x3;x4;x5]$.\n",
    "\n",
    "$$\\mathcal{Y}^i(x) = A_6 \\circ P_5(x_5) \\circ A_5 \\circ P_4(x_4) \\circ A_4 \\circ P_3(x_3) \\circ A_3 \\circ P_2(x_2) \\circ A_2 \\circ P_1(x_1) \\circ A_1 (E_{in}^i)$$\n",
    "\n",
    "where $A_j$ stands for the air propagation operator. Let $\\mathcal{K}_j$ be the precomputed air propagation kernel for the $j$th propagation, then\n",
    "\n",
    "$$A_j(E^i) = \\text{fftshift(ifft}(\\mathcal{K_j} * (\\text{fft(ifftshift}(E^i)))))=(\\text{fftshift}\\circ\\text{ifft}\\circ \\mathcal{K}_j \\circ \\text{fft} \\circ \\text{ifftshift})(E^i).$$\n",
    "\n",
    "$P_j$ stands for the phase modulation operator which is unitary and norm-preserving:\n",
    "\n",
    "$$P_j(E^i) = E^i * \\text{mat}(\\exp.(x_j * \\mathscr{i}\\ ))$$\n",
    "\n",
    "where $x_j$ is the vectorized $j$th plate input of the objective function and $\\text{mat}$ is matricization. Note that $*$ is elementwise (Hadamard) multiplication,$\\exp.()$ is broadcasting to all elements of the input matrix, and $\\mathscr{i}$ is the imaginary number.\n",
    "\"\"\""
   ]
  },
  {
   "cell_type": "code",
   "execution_count": 68,
   "metadata": {},
   "outputs": [
    {
     "data": {
      "text/latex": [
       "Define\n",
       "$$g(x_j) = \\exp.(x_j * \\mathscr{i}\\ )$$\n",
       "Then the Jacobian of $g$ wrt $x_j$ is a diagonal matrix\n",
       "$$D_j = \\mathscr{i} \\cdot \\text{diag}(\\exp.(x_j \\cdot \\mathscr{i}))$$\n",
       "So applying $D_j$ to $x_j$ is equivalent to an elementwise vector multiplication\n",
       "$$D_j x_j = \\mathscr{i} \\exp.(x_j \\cdot \\mathscr{i}) * x_j$$\n",
       "Let $B_{m,n}$ denote these composite constant linear operator chain $A_{n} \\circ P_{n-1} \\circ \\ldots \\circ A_{m}$,where $n\\geq m$.\n",
       "Notice $B_{1,j} (E_{in}^i)$ is the constant input of $P_j$ of the $i$th light component when we treat all $x$s but $x_j$ constant. \n",
       "By commutativity of Hadamard multiplication and associativity of function composition,\n",
       "\\begin{align*}\n",
       "\\mathcal{Y}^i &=B_{j+1,6} \\circ \\text{mat}(g(x_j)) \\circ B_{1,j}(E_{in}^i)\\\\\n",
       "&=B_{j+1,6} \\circ (B_{1,j}(E_{in}^i) * \\text{mat}(g(x_j)))\\\\\n",
       "&=(B_{j+1,6} \\circ B_{1,j})(E_{in}^i) * \\text{mat}(g(x_j))\\\\\n",
       "\\end{align*}\n",
       "\n",
       "Now define $L_j^i$ to be the composite linear operator that represents\n",
       "$$L_j^i(v) = (B_{j+1,6} \\circ B_{1,j})(E_{in}^i) * \\text{mat}(v)=A_6 \\circ P_5 \\circ \\ldots \\circ A_{j+1} \\circ A_j \\circ \\ldots \\circ A_1(E_{in}^i) \\circ \\text{mat}(v)$$\n",
       "In other words, it skips the $j$th phase modulation operator $P_j$ in the chain.\n",
       "Thus, if we keep all the $x$s but $x_j$ fixed,\n",
       "$$\\mathcal{Y}^i = L_j^i \\circ g(x_j)$$\n"
      ],
      "text/plain": [
       "L\"Define\n",
       "$$g(x_j) = \\exp.(x_j * \\mathscr{i}\\ )$$\n",
       "Then the Jacobian of $g$ wrt $x_j$ is a diagonal matrix\n",
       "$$D_j = \\mathscr{i} \\cdot \\text{diag}(\\exp.(x_j \\cdot \\mathscr{i}))$$\n",
       "So applying $D_j$ to $x_j$ is equivalent to an elementwise vector multiplication\n",
       "$$D_j x_j = \\mathscr{i} \\exp.(x_j \\cdot \\mathscr{i}) * x_j$$\n",
       "Let $B_{m,n}$ denote these composite constant linear operator chain $A_{n} \\circ P_{n-1} \\circ \\ldots \\circ A_{m}$,where $n\\geq m$.\n",
       "Notice $B_{1,j} (E_{in}^i)$ is the constant input of $P_j$ of the $i$th light component when we treat all $x$s but $x_j$ constant. \n",
       "By commutativity of Hadamard multiplication and associativity of function composition,\n",
       "\\begin{align*}\n",
       "\\mathcal{Y}^i &=B_{j+1,6} \\circ \\text{mat}(g(x_j)) \\circ B_{1,j}(E_{in}^i)\\\\\n",
       "&=B_{j+1,6} \\circ (B_{1,j}(E_{in}^i) * \\text{mat}(g(x_j)))\\\\\n",
       "&=(B_{j+1,6} \\circ B_{1,j})(E_{in}^i) * \\text{mat}(g(x_j))\\\\\n",
       "\\end{align*}\n",
       "\n",
       "Now define $L_j^i$ to be the composite linear operator that represents\n",
       "$$L_j^i(v) = (B_{j+1,6} \\circ B_{1,j})(E_{in}^i) * \\text{mat}(v)=A_6 \\circ P_5 \\circ \\ldots \\circ A_{j+1} \\circ A_j \\circ \\ldots \\circ A_1(E_{in}^i) \\circ \\text{mat}(v)$$\n",
       "In other words, it skips the $j$th phase modulation operator $P_j$ in the chain.\n",
       "Thus, if we keep all the $x$s but $x_j$ fixed,\n",
       "$$\\mathcal{Y}^i = L_j^i \\circ g(x_j)$$\n",
       "\""
      ]
     },
     "execution_count": 68,
     "metadata": {},
     "output_type": "execute_result"
    }
   ],
   "source": [
    "L\"\"\"\n",
    "Define\n",
    "$$g(x_j) = \\exp.(x_j * \\mathscr{i}\\ )$$\n",
    "Then the Jacobian of $g$ wrt $x_j$ is a diagonal matrix\n",
    "$$D_j = \\mathscr{i} \\cdot \\text{diag}(\\exp.(x_j \\cdot \\mathscr{i}))$$\n",
    "So applying $D_j$ to $x_j$ is equivalent to an elementwise vector multiplication\n",
    "$$D_j x_j = \\mathscr{i} \\exp.(x_j \\cdot \\mathscr{i}) * x_j$$\n",
    "Let $B_{m,n}$ denote these composite constant linear operator chain $A_{n} \\circ P_{n-1} \\circ \\ldots \\circ A_{m}$,where $n\\geq m$.\n",
    "Notice $B_{1,j} (E_{in}^i)$ is the constant input of $P_j$ of the $i$th light component when we treat all $x$s but $x_j$ constant. \n",
    "By commutativity of Hadamard multiplication and associativity of function composition,\n",
    "\\begin{align*}\n",
    "\\mathcal{Y}^i &=B_{j+1,6} \\circ \\text{mat}(g(x_j)) \\circ B_{1,j}(E_{in}^i)\\\\\n",
    "&=B_{j+1,6} \\circ (B_{1,j}(E_{in}^i) * \\text{mat}(g(x_j)))\\\\\n",
    "&=(B_{j+1,6} \\circ B_{1,j})(E_{in}^i) * \\text{mat}(g(x_j))\\\\\n",
    "\\end{align*}\n",
    "\n",
    "Now define $L_j^i$ to be the composite linear operator that represents\n",
    "$$L_j^i(v) = (B_{j+1,6} \\circ B_{1,j})(E_{in}^i) * \\text{mat}(v)=A_6 \\circ P_5 \\circ \\ldots \\circ A_{j+1} \\circ A_j \\circ \\ldots \\circ A_1(E_{in}^i) \\circ \\text{mat}(v)$$\n",
    "In other words, it skips the $j$th phase modulation operator $P_j$ in the chain.\n",
    "Thus, if we keep all the $x$s but $x_j$ fixed,\n",
    "$$\\mathcal{Y}^i = L_j^i \\circ g(x_j)$$\n",
    "\"\"\""
   ]
  },
  {
   "cell_type": "code",
   "execution_count": 73,
   "metadata": {},
   "outputs": [
    {
     "data": {
      "text/latex": [
       "We want to find the adjoint of $L_j^i$ since we need it later. We know that the adjoint of $\\text{fft}$ is $N \\cdot \\text{ifft}$ where $N$ is the number of elements of input matrix (same as size($x_j$)) and the adjoint of $\\text{fftshift}$ is $\\text{ifftshift}$. $\\mathcal{K}_j^*$ is $\\mathcal{K}_j$ itself. Thus\n",
       "\\begin{align}\n",
       "(A_j^i(E^i))^* &= (\\text{fftshift}\\circ\\text{ifft}\\circ \\mathcal{K}_j \\circ \\text{fft} \\circ \\text{ifftshift})^*(E^i)\\\\ \n",
       "&= \\text{fftshift}\\circ(N \\cdot\\text{ifft})\\circ \\mathcal{K}_j \\circ (\\frac{1}{N} \\cdot \\text{fft}) \\circ \\text{ifftshift}(E^i)\\\\\n",
       "&=\\text{fftshift}\\circ \\text{ifft} \\circ \\mathcal{K}_j \\circ \\text{fft} \\circ \\text{ifftshift}(E^i)\\\\\n",
       "&=A_j^i(E^i)\n",
       "\\end{align}\n",
       "Since when $x_j$ is fixed, $P_j$ is a constant Hadamard multiplication operator. Its adjoint $P_j^*$ is itself.\n",
       "The adjoint of $\\text{mat}$ is $\\text{vec}$. \n",
       "Therefore, \n",
       "\\begin{align}\n",
       "(L_j^i)^* &= (A_6 \\circ P_5 \\circ \\ldots \\circ A_{j+1} \\circ A_j \\circ \\ldots \\circ A_1(E_{in}^i) \\circ \\text{mat})^*\\\\\n",
       "&= \\text{vec}\\circ A_1(E_{in}^i) \\circ \\ldots \\circ A_j \\circ A_{j+1} \\circ \\ldots \\circ A_6\n",
       "\\end{align}\n"
      ],
      "text/plain": [
       "L\"We want to find the adjoint of $L_j^i$ since we need it later. We know that the adjoint of $\\text{fft}$ is $N \\cdot \\text{ifft}$ where $N$ is the number of elements of input matrix (same as size($x_j$)) and the adjoint of $\\text{fftshift}$ is $\\text{ifftshift}$. $\\mathcal{K}_j^*$ is $\\mathcal{K}_j$ itself. Thus\n",
       "\\begin{align}\n",
       "(A_j^i(E^i))^* &= (\\text{fftshift}\\circ\\text{ifft}\\circ \\mathcal{K}_j \\circ \\text{fft} \\circ \\text{ifftshift})^*(E^i)\\\\ \n",
       "&= \\text{fftshift}\\circ(N \\cdot\\text{ifft})\\circ \\mathcal{K}_j \\circ (\\frac{1}{N} \\cdot \\text{fft}) \\circ \\text{ifftshift}(E^i)\\\\\n",
       "&=\\text{fftshift}\\circ \\text{ifft} \\circ \\mathcal{K}_j \\circ \\text{fft} \\circ \\text{ifftshift}(E^i)\\\\\n",
       "&=A_j^i(E^i)\n",
       "\\end{align}\n",
       "Since when $x_j$ is fixed, $P_j$ is a constant Hadamard multiplication operator. Its adjoint $P_j^*$ is itself.\n",
       "The adjoint of $\\text{mat}$ is $\\text{vec}$. \n",
       "Therefore, \n",
       "\\begin{align}\n",
       "(L_j^i)^* &= (A_6 \\circ P_5 \\circ \\ldots \\circ A_{j+1} \\circ A_j \\circ \\ldots \\circ A_1(E_{in}^i) \\circ \\text{mat})^*\\\\\n",
       "&= \\text{vec}\\circ A_1(E_{in}^i) \\circ \\ldots \\circ A_j \\circ A_{j+1} \\circ \\ldots \\circ A_6\n",
       "\\end{align}\n",
       "\""
      ]
     },
     "execution_count": 73,
     "metadata": {},
     "output_type": "execute_result"
    }
   ],
   "source": [
    "L\"\"\"\n",
    "We want to find the adjoint of $L_j^i$ since we need it later. We know that the adjoint of $\\text{fft}$ is $N \\cdot \\text{ifft}$ where $N$ is the number of elements of input matrix (same as size($x_j$)) and the adjoint of $\\text{fftshift}$ is $\\text{ifftshift}$. $\\mathcal{K}_j^*$ is $\\mathcal{K}_j$ itself. Thus\n",
    "\\begin{align}\n",
    "(A_j^i(E^i))^* &= (\\text{fftshift}\\circ\\text{ifft}\\circ \\mathcal{K}_j \\circ \\text{fft} \\circ \\text{ifftshift})^*(E^i)\\\\ \n",
    "&= \\text{fftshift}\\circ(N \\cdot\\text{ifft})\\circ \\mathcal{K}_j \\circ (\\frac{1}{N} \\cdot \\text{fft}) \\circ \\text{ifftshift}(E^i)\\\\\n",
    "&=\\text{fftshift}\\circ \\text{ifft} \\circ \\mathcal{K}_j \\circ \\text{fft} \\circ \\text{ifftshift}(E^i)\\\\\n",
    "&=A_j^i(E^i)\n",
    "\\end{align}\n",
    "Since when $x_j$ is fixed, $P_j$ is a constant Hadamard multiplication operator. Its adjoint $P_j^*$ is itself.\n",
    "The adjoint of $\\text{mat}$ is $\\text{vec}$. \n",
    "Therefore, \n",
    "\\begin{align}\n",
    "(L_j^i)^* &= (A_6 \\circ P_5 \\circ \\ldots \\circ A_{j+1} \\circ A_j \\circ \\ldots \\circ A_1(E_{in}^i) \\circ \\text{mat})^*\\\\\n",
    "&= \\text{vec}\\circ A_1(E_{in}^i) \\circ \\ldots \\circ A_j \\circ A_{j+1} \\circ \\ldots \\circ A_6\n",
    "\\end{align}\n",
    "\"\"\""
   ]
  },
  {
   "cell_type": "code",
   "execution_count": 92,
   "metadata": {},
   "outputs": [
    {
     "data": {
      "text/latex": [
       "Define our objective function to be\n",
       "$$f(x)= \\sum_{i=1}^{10} \\frac{1}{2}||\\mathcal{Y}^i(x) - \\mathcal{Y}_{target}^i||_F^2.$$\n",
       "Since the gradient of $\\frac{1}{2} ||X||_F^2$ wrt to $X$ is $X$, then \n",
       "\\begin{align*}\n",
       "\\frac{d f}{d x_j} &=\\sum_{i=1}^{10} D_j (L_j^i)^* (L_j^i \\circ g(x_j) - \\mathcal{Y}_{target}^i) \\\\\n",
       "\n",
       "\\end{align*}\n",
       "\n",
       "\\begin{align*}\n",
       "\\frac{d f}{d x} &=\\left[\\frac{d f}{d x_1}; \\ldots ; \\frac{d f}{d x_5}\\right]\\\\ \n",
       "\\end{align*}\n",
       "\n"
      ],
      "text/plain": [
       "L\"Define our objective function to be\n",
       "$$f(x)= \\sum_{i=1}^{10} \\frac{1}{2}||\\mathcal{Y}^i(x) - \\mathcal{Y}_{target}^i||_F^2.$$\n",
       "Since the gradient of $\\frac{1}{2} ||X||_F^2$ wrt to $X$ is $X$, then \n",
       "\\begin{align*}\n",
       "\\frac{d f}{d x_j} &=\\sum_{i=1}^{10} D_j (L_j^i)^* (L_j^i \\circ g(x_j) - \\mathcal{Y}_{target}^i) \\\\\n",
       "\n",
       "\\end{align*}\n",
       "\n",
       "\\begin{align*}\n",
       "\\frac{d f}{d x} &=\\left[\\frac{d f}{d x_1}; \\ldots ; \\frac{d f}{d x_5}\\right]\\\\ \n",
       "\\end{align*}\n",
       "\n",
       "\""
      ]
     },
     "execution_count": 92,
     "metadata": {},
     "output_type": "execute_result"
    }
   ],
   "source": [
    "L\"\"\"\n",
    "Define our objective function to be\n",
    "$$f(x)= \\sum_{i=1}^{10} \\frac{1}{2}||\\mathcal{Y}^i(x) - \\mathcal{Y}_{target}^i||_F^2.$$\n",
    "Since the gradient of $\\frac{1}{2} ||X||_F^2$ wrt to $X$ is $X$, then \n",
    "\\begin{align*}\n",
    "\\frac{d f}{d x_j} &=\\sum_{i=1}^{10} D_j (L_j^i)^* (L_j^i \\circ g(x_j) - \\mathcal{Y}_{target}^i) \\\\\n",
    "\n",
    "\\end{align*}\n",
    "\n",
    "\\begin{align*}\n",
    "\\frac{d f}{d x} &=\\left[\\frac{d f}{d x_1}; \\ldots ; \\frac{d f}{d x_5}\\right]\\\\ \n",
    "\\end{align*}\n",
    "\n",
    "\"\"\""
   ]
  },
  {
   "cell_type": "code",
   "execution_count": null,
   "metadata": {
    "scrolled": false
   },
   "outputs": [],
   "source": [
    "L\"\"\"\n",
    "Let's first consider the gradient a simplified version of $\\mathcal{Y}^i$:\n",
    "$$\\tilde{\\mathcal{Y}^i} = A_2 \\circ P_1 (A_1 (E_{in}^i))= A_2 \\circ (A_1 (E_{in}^i) * \\text{mat}(\\exp.(x_1 * \\mathscr{i}\\ )))$$\n",
    "We matricize the input after elementwise exponential to keep all linear operators on the same side. \n",
    "We need a matrix because 2D FFT works differently than 1D FFT on vectorized input.\n",
    "Let $H_j$ be the linear operator representing Hadamard multiplication by $\\mathcal{K_j}$,\n",
    "$$A_j^i(E^i) = \\text{fftshift}\\circ\\text{ifft}\\circ H_j \\circ \\text{fft} \\circ \\text{ifftshift}(E^i).$$\n",
    "\n",
    "Let $A$ represents the linear Hadamard multiplication by $A_1 (E_{in}^i)$, which is a constant matrix. Since $A_2, \\text{mat}$ are also linear, we can group them as one linear operator by associativity of function composition:\n",
    "$$\\tilde{\\mathcal{Y}^i} = (A_2 \\circ A \\circ \\text{mat}) \\circ \\exp.(x_1 * \\mathscr{i}\\ ) :=f\\circ g(x_1)$$\n",
    "The derivative of $g$ wrt to $x_1$ is a diagonal Jacobian matrix $J_g$ where\n",
    "$$J_g[i,i] = \\mathscr{i}e^{\\mathscr{i}x_1[i]}$$\n",
    "Equivalently,\n",
    "$$J_g = \\mathscr{i} \\cdot \\text{diag}(\\exp.(x_1 * \\mathscr{i}))$$\n",
    "\n",
    "Since $f$ is linear, the derivative/Jacobian wrt $g(x_1)$ is just itself. Therefore, by the Chain rule,\n",
    "\\begin{align*}\n",
    "\\frac{d \\tilde{\\mathcal{Y}^i}}{d x_1} &=f'(g(x_1)) \\circ g'(x_1)\\\\\n",
    "&=J_f(g(x_1)) J_g(x_1) \\\\ \n",
    "&= (A_2 \\circ A \\circ \\text{mat}) \\circ J_g x_1 \\\\ \n",
    "&= (\\text{fftshift}\\circ \\text{ifft}\\circ H_j \\circ \\text{fft} \\circ \\text{ifftshift} \\circ A \\circ \\text{mat}) \\circ J_g  x_1\\\\\n",
    "\\end{align*}\n",
    "Then if we hold other $x_j$ to be constant, all the $A_{j}$ and $P_{j}$ for $j\\geq 2$ are just constant linear operators. Let $B_{m,n}$ denote these composite constant linear operator chain $A_{n} \\circ P_{n-1} \\circ \\ldots \\circ A_{m}$,where $n\\geq m$. Then\n",
    "\\begin{align*}\n",
    "\\frac{d \\mathcal{Y}^i}{d x_1} &=B_{2,6} \\circ \\frac{d \\tilde{\\mathcal{Y}^i}}{d x_1}\\\\ \n",
    "&=B_{2,6} \\circ (\\text{fftshift}\\circ \\text{ifft}\\circ H_j \\circ \\text{fft} \\circ \\text{ifftshift} \\circ A \\circ \\text{mat}) \\circ J_g  x_1\\\\\n",
    "\\end{align*}\n",
    "\"\"\""
   ]
  },
  {
   "cell_type": "code",
   "execution_count": null,
   "metadata": {
    "scrolled": true
   },
   "outputs": [],
   "source": [
    "L\"\"\"\n",
    "Now we can apply this to any given $x_j$. Notice $B_{1,j} \\circ E_{in}^i$ is the constant input of $P_j$ of the $i$th light component when we treat all $x$s but $x_j$ constant. Define\n",
    "$$\\tilde{\\mathcal{Y}_j^i} = P_j (B_{1,j} \\circ E_{in}^i) = (B_{1,j} \\circ E_{in}^i) * \\text{mat}(\\exp.(x_j * \\mathscr{i}\\ )):=C_j^i \\circ \\text{mat}\\circ(\\exp.(x_j * \\mathscr{i}\\ ))$$\n",
    "\n",
    "$$D_j = \\mathscr{i} \\cdot \\text{diag}(\\exp.(x_j \\cdot \\mathscr{i}))$$\n",
    "$$D_j x_j = \\mathscr{i} \\exp.(x_j \\cdot \\mathscr{i}) * x_j$$\n",
    "\n",
    "\\begin{align*}\n",
    "\\frac{d \\tilde{\\mathcal{Y}^i}}{d x_j} = (C_j^i \\circ \\text{mat}) \\circ D_j x_j\n",
    "\\end{align*}\n",
    "\n",
    "\\begin{align*}\n",
    "\\frac{d \\mathcal{Y}^i}{d x_j} &=B_{j+1,6} \\circ \\frac{d \\tilde{\\mathcal{Y}_j^i}}{d x_j}\\\\ \n",
    "&=B_{j+1,6} \\circ (C_j^i \\circ \\text{mat}) \\circ D_j x_j\\\\ \n",
    "&=(B_{j+1,6} \\circ B_{1,j})(E_{in}^i) * \\text{mat}(D_j x_j)\\\\\n",
    "\\end{align*}\n",
    "In other words, the constant matrix in the Jacobian is just the input propagates through all the linear operators except for the $j$th phase modulation.\n",
    "\n",
    "\n",
    "\"\"\""
   ]
  },
  {
   "cell_type": "code",
   "execution_count": null,
   "metadata": {
    "scrolled": true
   },
   "outputs": [],
   "source": [
    "#objective function\n",
    "#f(x) = real(norm(propagatedOutput(e_in,airKernels,mat(x),pfft,pifft).*conj(e_target))^2/nmod -1);\n",
    "#f(x) = real(sum(abs.(propagatedOutput(e_in,airKernels,mat(x),pfft,pifft).*conj(e_target)))/nmod -1); #original objective\n",
    "#f(x) = real(norm(propagatedOutput(e_in,airKernels,mat(x),pfft,pifft))/nmod -1); #test\n",
    "\n",
    "errFcn(x) = f(x)\n",
    "x0 =randn(npl,nx,ny);"
   ]
  },
  {
   "cell_type": "code",
   "execution_count": null,
   "metadata": {},
   "outputs": [],
   "source": [
    "x,out=cubicReg(f,x0,errFcn=errFcn,maxIts=100)"
   ]
  },
  {
   "cell_type": "code",
   "execution_count": null,
   "metadata": {},
   "outputs": [],
   "source": [
    "#finite difference didn't work?\n",
    "out = Optim.minimizer(optimize(f, x0, GradientDescent(); autodiff = :finite))"
   ]
  },
  {
   "cell_type": "code",
   "execution_count": null,
   "metadata": {},
   "outputs": [],
   "source": [
    "# verify\n",
    "e = zeros(ComplexF64,(npl+2,nmod,nx,ny)) \n",
    "e_m = e_in # modulated field\n",
    "\n",
    "e_o = propagatedOutput(e_m,airKernels,out,pfft,pifft)\n"
   ]
  },
  {
   "cell_type": "code",
   "execution_count": null,
   "metadata": {},
   "outputs": [],
   "source": [
    "fig, ax = plt.subplots()\n",
    "img=ax.imshow(real(out[1,:,:]),extent=(x[1],x[end],y[1],y[end]))\n",
    "cbar=plt.colorbar(img)\n",
    "\n",
    "fig, ax = plt.subplots()\n",
    "img=ax.imshow(real(out[2,:,:]),extent=(x[1],x[end],y[1],y[end]))\n",
    "cbar=plt.colorbar(img)"
   ]
  },
  {
   "cell_type": "code",
   "execution_count": null,
   "metadata": {},
   "outputs": [],
   "source": [
    "fig, ax = plt.subplots()\n",
    "img = ax.imshow(np.abs(e_o[1,:,:]),extent=(x[1],x[end],y[1],y[end]))\n",
    "cbar = plt.colorbar(img)"
   ]
  },
  {
   "cell_type": "code",
   "execution_count": null,
   "metadata": {},
   "outputs": [],
   "source": []
  }
 ],
 "metadata": {
  "kernelspec": {
   "display_name": "JuliaPro_v1.5.3-1 1.5.3",
   "language": "julia",
   "name": "juliapro_v1.5.3-1-1.5"
  },
  "language_info": {
   "file_extension": ".jl",
   "mimetype": "application/julia",
   "name": "julia",
   "version": "1.5.3"
  }
 },
 "nbformat": 4,
 "nbformat_minor": 4
}
