{
 "cells": [
  {
   "cell_type": "code",
   "execution_count": 127,
   "metadata": {},
   "outputs": [
    {
     "name": "stderr",
     "output_type": "stream",
     "text": [
      "┌ Info: Precompiling Optim [429524aa-4258-5aef-a3af-852621145aeb]\n",
      "└ @ Base loading.jl:1278\n"
     ]
    }
   ],
   "source": [
    "using LinearAlgebra,Polynomials,Printf,Random,ForwardDiff,PyPlot,PyCall,FFTW,Zygote,Optim"
   ]
  },
  {
   "cell_type": "code",
   "execution_count": 2,
   "metadata": {},
   "outputs": [
    {
     "data": {
      "text/plain": [
       "PyObject <module 'numpy' from 'C:\\\\Users\\\\bryan\\\\.julia\\\\Conda_env\\\\lib\\\\site-packages\\\\numpy\\\\__init__.py'>"
      ]
     },
     "execution_count": 2,
     "metadata": {},
     "output_type": "execute_result"
    }
   ],
   "source": [
    "np=pyimport(\"numpy\")"
   ]
  },
  {
   "cell_type": "markdown",
   "metadata": {},
   "source": [
    "## ARC Functions"
   ]
  },
  {
   "cell_type": "code",
   "execution_count": 184,
   "metadata": {},
   "outputs": [
    {
     "data": {
      "text/plain": [
       "cubicReg (generic function with 1 method)"
      ]
     },
     "execution_count": 184,
     "metadata": {},
     "output_type": "execute_result"
    }
   ],
   "source": [
    "function ARCSubproblem(gx,B,v1,lambda1,sigma,kappa_easy,subMaxIts) %#codegen\n",
    "# Usage: p = ARCSubproblem(gx,B,v1,lambda1,sigma,kappa_easy,maxIts)\n",
    "#adapted from Algorithm 7.3.6, Conn et al 2000, Algorithm 4.3, Nocedal\n",
    "#and Wright, 2006, and Cartis et al 2011\n",
    "\n",
    "#subout returns -1 if Hessian is ill-conditioned, 0 if maxIts is reached, 1\n",
    "#if a good solution is found, 2 if an edge case is reached\n",
    "\n",
    "lambda = max(0,-lambda1)\n",
    "#small value to resolve numerical instability from eig and chol\n",
    "if lambda != 0 #strictly greater than\n",
    "    lambda = lambda + eps(lambda)\n",
    "end\n",
    "Delta = lambda/sigma\n",
    "\n",
    "B1=deepcopy(B)\n",
    "\n",
    "i=0\n",
    "\n",
    "#we are trying to find the global minimizer of m(p). It should satisfy\n",
    "#1. (B+lambda*I)p = -g\n",
    "#2. lambda^2 = sigma^2*norm(p)\n",
    "#see Eqn (6.1) in Cartis et al 2011\n",
    "while true\n",
    "    i=i+1\n",
    "    #increment diagonal more efficiently than whole-matrix addition\n",
    "    B1[1:1+size(B1,1):end] = diag(B).+lambda\n",
    "    C = cholesky(B1,check=false)\n",
    "    flag = LinearAlgebra.issuccess(C)\n",
    "    k = 0\n",
    "    lambda_const = eps(lambda)\n",
    "    #fail to be positive definite\n",
    "    while flag == 0\n",
    "        k = k+1\n",
    "        B1[1:1+size(B1,1):end] = diag(B1).+lambda_const\n",
    "        C = cholesky(B1,check=false)\n",
    "        flag = LinearAlgebra.issuccess(C)\n",
    "        # gradually increase the constant to reduce iterations\n",
    "        lambda_const = min(lambda_const*2,abs(lambda1))\n",
    "        if k > subMaxIts\n",
    "            p = zeros(size(gx))\n",
    "            # -1 = failed to find cholesky\n",
    "            return p,(info=-1,iter=i)\n",
    "        end\n",
    "    end\n",
    "    p = -C.U\\(C.L\\gx)\n",
    "    normp = norm(p)\n",
    "    if i == subMaxIts\n",
    "        # 0 = maxIts reached\n",
    "        return p,(info=0,iter=i)\n",
    "    end\n",
    "    if abs(normp-Delta) < kappa_easy\n",
    "        # 1 = good solution found\n",
    "        return p,(info=1,iter=i)\n",
    "    end\n",
    "    if normp <= Delta\n",
    "        if lambda == 0 || normp == Delta\n",
    "            # 2 = edge case\n",
    "            return p,(info=2,iter=i)\n",
    "        else #\"hard case\", Nocedal and Wright, 2006 P88 Equation 4.45\n",
    "            #%also see Algorithm 7.3.6, P199 of Conn 2000\n",
    "            #fprintf('A wild \"hard case\" appeared!\\n');\n",
    "            #1*tau^2+0*tau+(norm^2-Delta^2)=0\n",
    "            #normp is the same as the expression cuz the first eigenvector\n",
    "            #dot gx is zero\n",
    "            #hp = [1 0 norm(V(:,2:end)'*gx./(evals(2:end)+lambda))^2-Delta^2];\n",
    "            # find the larger root of the quadratic equation\n",
    "            tau = maximum(roots(Polynomial([1,0,normp^2-Delta^2])))\n",
    "            p = tau*v1 + p\n",
    "        end\n",
    "    end\n",
    "    q = C.L\\p\n",
    "    if lambda < eps(lambda)\n",
    "        lambda = lambda + lambda_const\n",
    "    else\n",
    "        #Newton method to update lambda, simplified version of phi(lambda)/phi'(lambda) eqn (6.7) and (6.10) in Nocedal\n",
    "        #and Wright\n",
    "        lambda = lambda + lambda*(normp-Delta)/(normp+Delta*lambda*(norm(q)/normp)^2)\n",
    "    end\n",
    "    Delta = lambda/sigma\n",
    "end\n",
    "end\n",
    "\n",
    "#output structs\n",
    "mutable struct Output\n",
    "    errHistory::Array{Float64,1}\n",
    "    gradnorm::Array{Float64,1}\n",
    "    xnorm::Array{Float64,1}\n",
    "    sigma::Array{Float64,1}\n",
    "    rho::Array{Float64,1}\n",
    "    info::Int\n",
    "    iter::Int\n",
    "    subout::Array{NamedTuple,1}\n",
    "end\n",
    "```\n",
    "#forcing AD hessian to be Zygote only didn't work\n",
    "function my_jacobian(f, x::AbstractArray)\n",
    "    y, back  = Zygote.pullback(vec∘f, x)\n",
    "    k, n = length(y), length(x)\n",
    "    e_array = Matrix(I,k,k)\n",
    "    slices = map(1:k) do i\n",
    "        b = back(e_array[:,i])[1]\n",
    "        b===nothing ? falses(n) : vec(b)\n",
    "    end\n",
    "    (reduce(hcat, slices),)\n",
    "end\n",
    "my_hessian(f, x::AbstractArray) = my_jacobian(x -> Zygote.gradient(f, x)[1], x)[1]\n",
    "```\n",
    "function symmetricADHessian(f,x)\n",
    "    Hx = Zygote.hessian(f,x)\n",
    "    #Hx = my_hessian(f,x)\n",
    "    return LinearAlgebra.tril(Hx,-1)+LinearAlgebra.tril(Hx)'\n",
    "end\n",
    "\n",
    "\n",
    "function cubicReg(f,x;grad=x->Zygote.gradient(f,x),H=x->symmetricADHessian(f,x),errFcn=x->f(x), errTol=1e-10,maxIts=1e4,subMaxIts=500,sigma=1,sigma_min=1e-3,eta1=0.1,eta2=0.9,kappa_easy=1e-4)\n",
    "\n",
    "    #m-function to compute rho\n",
    "    m(p,gx,Hx,sigma) = dot(p,gx) + 0.5 * dot(Hx*p,p) + 1/3*sigma*norm(p)^3\n",
    "    fx = f(x)\n",
    "    gx = grad(x)\n",
    "\n",
    "    out = Output([],[],[],[],[],-9,-9,[])\n",
    "    push!(out.errHistory,errFcn(x))\n",
    "    push!(out.gradnorm,norm(gx))\n",
    "    push!(out.xnorm,norm(x))\n",
    "\n",
    "    Hx = H(x)\n",
    "    E = eigen(Hx)\n",
    "    #leftmost eigenvalue/vector\n",
    "    v1 = E.vectors[:,1]\n",
    "    lambda1 = E.values[1]\n",
    "    i=0\n",
    "    while true\n",
    "        i=i+1\n",
    "        push!(out.sigma,sigma)\n",
    "        p,subout = ARCSubproblem(gx,Hx,v1,lambda1,sigma,kappa_easy,subMaxIts)\n",
    "        push!(out.subout,subout)\n",
    "        #failed cholesky, terminate\n",
    "        if subout.info == -1\n",
    "            out.info = -1;\n",
    "            out.iter = i-1;\n",
    "            return x,out\n",
    "        end\n",
    "        rho = (fx-f(x+p))/(-m(p,gx,Hx,sigma))\n",
    "        push!(out.rho,rho)\n",
    "        #reach maxIts\n",
    "        if i == maxIts\n",
    "            out.info  = 0\n",
    "            out.iter = maxIts\n",
    "            return x,out\n",
    "        end\n",
    "        if rho >= eta1\n",
    "            x = x + p\n",
    "            #@printf \"norm(x)=%f\\n\" norm(x)\n",
    "            fx = f(x)\n",
    "            gx = grad(x)\n",
    "            #stopping-criteria reached\n",
    "            if abs(fx) < errTol\n",
    "                push!(out.errHistory,errFcn(x))\n",
    "                push!(out.gradnorm,norm(gx))\n",
    "                push!(out.xnorm,norm(x))\n",
    "                out.iter = i\n",
    "                out.info = 1\n",
    "                return x,out\n",
    "            end\n",
    "            #only compute the next Hessian and eig if necessary\n",
    "            Hx = H(x);\n",
    "            E = eigen(Hx)\n",
    "            v1 = E.vectors[:,1]\n",
    "            lambda1 = E.values[1]\n",
    "            #if very successful, expand TR radius\n",
    "            if rho > eta2\n",
    "               sigma = max(0.5 * sigma,sigma_min)\n",
    "            end\n",
    "        #unsuccessful, shrink TR radius and reuse other variables\n",
    "        else\n",
    "            sigma = 2 * sigma\n",
    "        end\n",
    "        push!(out.errHistory,errFcn(x))\n",
    "        push!(out.gradnorm,norm(gx))\n",
    "        push!(out.xnorm,norm(x))\n",
    "    end\n",
    "end\n"
   ]
  },
  {
   "cell_type": "markdown",
   "metadata": {},
   "source": [
    "## Optic Functions"
   ]
  },
  {
   "cell_type": "code",
   "execution_count": 186,
   "metadata": {},
   "outputs": [
    {
     "data": {
      "text/plain": [
       "phase_mod (generic function with 1 method)"
      ]
     },
     "execution_count": 186,
     "metadata": {},
     "output_type": "execute_result"
    }
   ],
   "source": [
    "function make_prop_kernel( sz, z; dl=2,lmbd=0.5)\n",
    "    nx = sz[1]\n",
    "    ny = sz[2]\n",
    "    k=2*pi/lmbd # wavenumber\n",
    "    dkx=2*pi/((nx-1)*dl)\n",
    "    dky=2*pi/((ny-1)*dl)\n",
    "    kx=(LinRange(0,nx-1,nx).-nx/2)*dkx\n",
    "    ky=(LinRange(0,ny-1,ny).-ny/2)*dky\n",
    "\n",
    "    inflate(f, kx, ky) = [f(x,y) for x in kx, y in ky]\n",
    "    f(kx,ky)=exp(1im*sqrt(k^2-kx^2-ky^2)*z)\n",
    "\n",
    "    prop_kernel=inflate(f,kx,ky)\n",
    "\n",
    "    prop_kernel = ifftshift(prop_kernel)\n",
    "    \n",
    "    return prop_kernel\n",
    "end\n",
    "\n",
    "function light_prop(e_in, prop_kernel,pfft,pifft)\n",
    "    if ndims(e_in) == 3\n",
    "        prop_kernel = reshape(prop_kernel,(1,size(prop_kernel)...))\n",
    "    end\n",
    "    ek_in  = pfft*ifftshift(e_in)\n",
    "    ek_out = ek_in.*prop_kernel\n",
    "    #e_out  = fftshift(pifft.scale.*(pifft.p*ek_out))\n",
    "    e_out  = fftshift(0.1.*(pifft.p*ek_out))\n",
    "    return e_out\n",
    "end\n",
    "\n",
    "function phase_mod(e_in, theta; samp_ratio=1)\n",
    "    #=\n",
    "    e_in is the input field\n",
    "    theta is the phase mask\n",
    "    samp_ratio is the pixel size ratio between the phase mask and the e field \n",
    "    =#\n",
    "    if ndims(e_in) == 2\n",
    "        if samp_ratio == 1\n",
    "            e_out = e_in.*exp.(1im*theta)\n",
    "        else\n",
    "            e_out = e_in.*kron(exp.(1im*theta),ones((samp_ratio,samp_ratio)))\n",
    "        end\n",
    "    elseif ndims(e_in) == 3\n",
    "        if samp_ratio == 1\n",
    "            M = exp.(1im*theta)\n",
    "            e_out = e_in.*reshape(M,(1,size(M)...))\n",
    "        else\n",
    "            M = kron(exp.(1im*theta),ones((samp_ratio,samp_ratio)))\n",
    "            e_out = e_in.*reshape(M,(1,size(M)...))\n",
    "        end\n",
    "    end\n",
    "    return e_out\n",
    "end"
   ]
  },
  {
   "cell_type": "markdown",
   "metadata": {},
   "source": [
    "## main()"
   ]
  },
  {
   "cell_type": "code",
   "execution_count": 139,
   "metadata": {
    "scrolled": true
   },
   "outputs": [
    {
     "data": {
      "image/png": "[encoded data removed]",
      "text/plain": [
       "Figure(PyObject <Figure size 640x480 with 2 Axes>)"
      ]
     },
     "metadata": {},
     "output_type": "display_data"
    },
    {
     "data": {
      "image/png": "[encoded data removed]",
      "text/plain": [
       "Figure(PyObject <Figure size 640x480 with 2 Axes>)"
      ]
     },
     "metadata": {},
     "output_type": "display_data"
    },
    {
     "data": {
      "image/png": "[encoded data removed]",
      "text/plain": [
       "Figure(PyObject <Figure size 640x480 with 2 Axes>)"
      ]
     },
     "metadata": {},
     "output_type": "display_data"
    },
    {
     "data": {
      "text/plain": [
       "PyObject <matplotlib.colorbar.Colorbar object at 0x000000003CB71460>"
      ]
     },
     "execution_count": 139,
     "metadata": {},
     "output_type": "execute_result"
    }
   ],
   "source": [
    "#reducing pixels resulted in very strange looking desired output\n",
    "nx = 16\n",
    "ny = 16\n",
    "npl = 5\n",
    "mat(x) = reshape(x,(npl,nx,ny))\n",
    "\n",
    "# wavelength\n",
    "lmbd = 0.5 # in um\n",
    "# pixel size\n",
    "dl = 5 # unit um\n",
    "\n",
    "x=(LinRange(0,nx-1,nx).-nx/2)*dl\n",
    "y=(LinRange(0,ny-1,ny).-ny/2)*dl\n",
    "\n",
    "#no idea what this is doing, is s_input the coordinate to create Gaussian spots?\n",
    "s_input = Matrix(undef,sum(1:npl-1),2)\n",
    "p = 90 # pitch\n",
    "k=0\n",
    "for  ii =1:npl-1\n",
    "    ys = -ii*p*sqrt(2)/2\n",
    "    for jj =0:ii-1\n",
    "        k+=1\n",
    "        xs = ys + jj*p*sqrt(2)\n",
    "        s_input[k,:]=[xs,ys]\n",
    "    end\n",
    "end\n",
    "\n",
    "nmod = size(s_input,1)\n",
    "e_in = zeros(nmod, ny, nx)#why ny nx?\n",
    "w_in = 30 # beam width\n",
    "inflate(f, x, y, i) = [f(xx,yy,i) for xx in x, yy in y]\n",
    "#Gaussian\n",
    "f(x,y,i)=exp(-((x-s_input[i,1])^2+(y-s_input[i,2])^2)/w_in^2)\n",
    "for ii = 1:nmod\n",
    "    e = inflate(f,x,y,ii)\n",
    "    I = sum(abs2,e)\n",
    "    e_in[ii,:,:] = e'/sqrt(I) #normalize, x,y very confusing!!!\n",
    "end\n",
    "\n",
    "#precompute the plan to avoid AD the plan function\n",
    "pfft = plan_fft(e_in)\n",
    "pifft = plan_ifft(e_in)\n",
    "\n",
    "fig, ax = plt.subplots()\n",
    "image=ax.imshow(dropdims(sum(e_in, dims=1),dims=1))\n",
    "cbar=plt.colorbar(image)  \n",
    "\n",
    "# output\n",
    "e_target = zeros(nmod, ny, nx) #why ny nx?\n",
    "w_target = 200\n",
    "inflate(f, x, y) = [f(xx,yy) for xx in x, yy in y]\n",
    "f(x,y)=exp(-(x^2+y^2)/w_out^2)\n",
    "M = inflate(f,x,y)\n",
    "\n",
    "for  ii = 1:npl-1\n",
    "    for jj = 1:ii\n",
    "        c = zeros(jj,ii-jj+1)\n",
    "        c[jj,ii-jj+1]=1\n",
    "        #only get the last term?\n",
    "        e = np.polynomial.hermite.hermgrid2d(sqrt(2)*x/w_out, sqrt(2)*y/w_out, c).*M\n",
    "        I = sum(abs2,e)\n",
    "        kk = fld(ii*(ii-1),2)+jj# list index (it's actually just 1:10)\n",
    "        e_target[kk,:,:] = e/sqrt(I)\n",
    "    end\n",
    "end\n",
    "\n",
    "fig, ax = subplots()\n",
    "image=ax.imshow(e_out[1,:,:])\n",
    "cbar=colorbar(image)\n",
    "fig, ax = subplots()\n",
    "image=ax.imshow(e_out[5,:,:])\n",
    "cbar=colorbar(image)"
   ]
  },
  {
   "cell_type": "code",
   "execution_count": 141,
   "metadata": {},
   "outputs": [],
   "source": [
    "d = [2e4,2.5e4,2.5e4,2.5e4,2.5e4,2e4]\n",
    "#air propagtion is a constant linear operator so we can precompute it\n",
    "airKernels   = zeros(ComplexF64,(npl+1,nx,ny))\n",
    "for jj = 1:npl+1\n",
    "  airKernels[jj,:,:] = make_prop_kernel( (nx,ny), d[jj],dl=dl,lmbd=lmbd)\n",
    "end"
   ]
  },
  {
   "cell_type": "code",
   "execution_count": 142,
   "metadata": {},
   "outputs": [
    {
     "data": {
      "text/plain": [
       "propagatedOutput (generic function with 2 methods)"
      ]
     },
     "execution_count": 142,
     "metadata": {},
     "output_type": "execute_result"
    }
   ],
   "source": [
    "#forward propagation\n",
    "function propagatedOutput(e_in,airKernels,theta,pfft,pifft)\n",
    "    e_out = e_in\n",
    "    for jj = 1:size(theta,1)  # loop over plate\n",
    "        e_out = light_prop(e_in, airKernels[jj,:,:],pfft,pifft)\n",
    "        e_out = phase_mod(e_out, theta[jj,:,:], samp_ratio=1)\n",
    "    end\n",
    "    return e_out\n",
    "end"
   ]
  },
  {
   "cell_type": "code",
   "execution_count": 196,
   "metadata": {
    "scrolled": true
   },
   "outputs": [
    {
     "data": {
      "text/plain": [
       "5×16×16 Array{Float64,3}:\n",
       "[:, :, 1] =\n",
       " -0.713934  -0.526073  -1.30643   …  -0.409317  -0.518114  -1.07079\n",
       " -0.640365  -1.17272   -0.444203      0.974276   0.37817    0.52694\n",
       "  0.300875  -0.891356   0.229915      0.677757  -0.923492  -0.453958\n",
       " -0.311502   0.393075  -0.130634     -0.482817  -1.35365   -0.111803\n",
       "  0.250415  -0.534211  -1.17461       0.256334  -0.739745   1.02456\n",
       "\n",
       "[:, :, 2] =\n",
       " -0.887657   1.44159   -0.0705332  …  -1.14782    -0.752299   0.810274\n",
       "  1.34471    1.05057   -1.54141        3.4511     -1.66328   -2.38865\n",
       "  1.52605    0.692582  -0.0747244     -0.0363137  -0.65842   -1.24287\n",
       "  0.175138   0.623614  -0.593318       1.18354     0.187025  -0.966847\n",
       " -1.29471   -0.640301   0.233312      -0.0249534  -0.591351  -1.01367\n",
       "\n",
       "[:, :, 3] =\n",
       "  0.361983  -0.99725    0.397074   …   0.345562    0.375683  -0.0118167\n",
       "  1.51299   -0.5134     1.22947        0.589156   -1.56111   -1.11871\n",
       " -1.37243    1.08781    0.147272       0.080467    0.462572   0.423285\n",
       " -1.03506    1.27657   -2.00164        0.0344641   0.339537   1.5955\n",
       " -0.97619   -0.106897   0.0167458     -1.75516    -0.217292   0.976807\n",
       "\n",
       "...\n",
       "\n",
       "[:, :, 14] =\n",
       "  0.565624  -1.30947   -0.152352   …  -0.602434   0.333329  -1.39807\n",
       " -1.15424    0.888179  -0.323401       1.84757    0.711963  -0.986919\n",
       " -0.552765   1.57935   -0.27215        0.663102   0.224138   0.952744\n",
       "  0.950153   0.438704   1.84445        0.477086  -0.383372  -2.63123\n",
       " -0.179584   0.845166  -0.0733042     -0.932893   0.159535   0.916809\n",
       "\n",
       "[:, :, 15] =\n",
       "  0.897988   1.39109    -2.19152   …   0.350379   0.153743   -1.46264\n",
       "  2.24748   -0.224211    0.280956     -0.508073  -1.56916    -0.0793386\n",
       " -0.402947   2.04172     0.735136     -0.346682   0.0628252   0.474725\n",
       "  0.594319   0.0847149   0.515902     -0.537261  -0.25839    -2.02379\n",
       "  0.700101  -0.984436    2.08654      -0.224015  -0.446636    0.109152\n",
       "\n",
       "[:, :, 16] =\n",
       "  0.383955    0.269484   -0.683835   …  -1.32491   -1.49027   -0.701125\n",
       " -1.70639    -1.63244     0.513349       0.544746   2.53161    0.251181\n",
       " -0.0244851  -0.0937562   0.247166      -0.952364  -0.994485  -0.00724355\n",
       " -0.65712    -0.548137    0.0201464     -1.15929   -0.610093   0.527427\n",
       "  2.17142    -1.50913    -1.14047        0.274234   1.25058   -2.02415"
      ]
     },
     "execution_count": 196,
     "metadata": {},
     "output_type": "execute_result"
    }
   ],
   "source": [
    "#objective function\n",
    "#f(x) = real(norm(propagatedOutput(e_in,airKernels,mat(x),pfft,pifft).*conj(e_target))^2/nmod -1);\n",
    "f(x) = real(sum(abs.(propagatedOutput(e_in,airKernels,mat(x),pfft,pifft).*conj(e_target)))/nmod -1); #original objective\n",
    "#f(x) = real(norm(propagatedOutput(e_in,airKernels,mat(x),pfft,pifft))/nmod -1); #test\n",
    "\n",
    "errFcn(x) = f(x)\n",
    "x0 =randn(npl,nx,ny);"
   ]
  },
  {
   "cell_type": "code",
   "execution_count": 197,
   "metadata": {},
   "outputs": [
    {
     "ename": "LoadError",
     "evalue": "Can't differentiate foreigncall expression",
     "output_type": "error",
     "traceback": [
      "Can't differentiate foreigncall expression",
      "",
      "Stacktrace:",
      " [1] error(::String) at .\\error.jl:33",
      " [2] get at .\\iddict.jl:87 [inlined]",
      " [3] (::typeof(∂(get)))(::Nothing) at C:\\Users\\bryan\\.julia\\packages\\Zygote\\bRa8J\\src\\compiler\\interface2.jl:0",
      " [4] accum_global at C:\\Users\\bryan\\.julia\\packages\\Zygote\\bRa8J\\src\\lib\\lib.jl:56 [inlined]",
      " [5] (::typeof(∂(accum_global)))(::Nothing) at C:\\Users\\bryan\\.julia\\packages\\Zygote\\bRa8J\\src\\compiler\\interface2.jl:0",
      " [6] #89 at C:\\Users\\bryan\\.julia\\packages\\Zygote\\bRa8J\\src\\lib\\lib.jl:67 [inlined]",
      " [7] (::typeof(∂(λ)))(::Nothing) at C:\\Users\\bryan\\.julia\\packages\\Zygote\\bRa8J\\src\\compiler\\interface2.jl:0",
      " [8] #1550#back at C:\\Users\\bryan\\.julia\\packages\\ZygoteRules\\OjfTt\\src\\adjoint.jl:59 [inlined]",
      " [9] (::typeof(∂(λ)))(::Nothing) at C:\\Users\\bryan\\.julia\\packages\\Zygote\\bRa8J\\src\\compiler\\interface2.jl:0",
      " [10] f at .\\In[196]:4 [inlined]",
      " [11] (::typeof(∂(λ)))(::Tuple{Nothing,Array{Bool,3}}) at C:\\Users\\bryan\\.julia\\packages\\Zygote\\bRa8J\\src\\compiler\\interface2.jl:0",
      " [12] #41 at C:\\Users\\bryan\\.julia\\packages\\Zygote\\bRa8J\\src\\compiler\\interface.jl:40 [inlined]",
      " [13] (::typeof(∂(λ)))(::Tuple{Array{Bool,3}}) at C:\\Users\\bryan\\.julia\\packages\\Zygote\\bRa8J\\src\\compiler\\interface2.jl:0",
      " [14] gradient at C:\\Users\\bryan\\.julia\\packages\\Zygote\\bRa8J\\src\\compiler\\interface.jl:49 [inlined]",
      " [15] (::typeof(∂(gradient)))(::Tuple{Array{Bool,3}}) at C:\\Users\\bryan\\.julia\\packages\\Zygote\\bRa8J\\src\\compiler\\interface2.jl:0",
      " [16] #322 at .\\In[184]:106 [inlined]",
      " [17] (::typeof(∂(#322)))(::Array{Bool,3}) at C:\\Users\\bryan\\.julia\\packages\\Zygote\\bRa8J\\src\\compiler\\interface2.jl:0",
      " [18] (::Zygote.var\"#150#151\"{typeof(∂(#322)),Tuple{Tuple{Nothing}}})(::Array{Bool,3}) at C:\\Users\\bryan\\.julia\\packages\\Zygote\\bRa8J\\src\\lib\\lib.jl:191",
      " [19] #1693#back at C:\\Users\\bryan\\.julia\\packages\\ZygoteRules\\OjfTt\\src\\adjoint.jl:59 [inlined]",
      " [20] #62 at .\\operators.jl:875 [inlined]",
      " [21] (::typeof(∂(#62)))(::Array{Bool,1}) at C:\\Users\\bryan\\.julia\\packages\\Zygote\\bRa8J\\src\\compiler\\interface2.jl:0",
      " [22] (::Zygote.var\"#41#42\"{typeof(∂(#62))})(::Array{Bool,1}) at C:\\Users\\bryan\\.julia\\packages\\Zygote\\bRa8J\\src\\compiler\\interface.jl:40",
      " [23] (::var\"#320#321\"{Zygote.var\"#41#42\"{typeof(∂(#62))},Int64,Array{Bool,2}})(::Int64) at .\\In[184]:101",
      " [24] iterate at .\\generator.jl:47 [inlined]",
      " [25] _collect(::UnitRange{Int64}, ::Base.Generator{UnitRange{Int64},var\"#320#321\"{Zygote.var\"#41#42\"{typeof(∂(#62))},Int64,Array{Bool,2}}}, ::Base.EltypeUnknown, ::Base.HasShape{1}) at .\\array.jl:699",
      " [26] collect_similar(::UnitRange{Int64}, ::Base.Generator{UnitRange{Int64},var\"#320#321\"{Zygote.var\"#41#42\"{typeof(∂(#62))},Int64,Array{Bool,2}}}) at .\\array.jl:628",
      " [27] map(::Function, ::UnitRange{Int64}) at .\\abstractarray.jl:2162",
      " [28] my_jacobian(::Function, ::Array{Float64,3}) at .\\In[184]:100",
      " [29] my_hessian at .\\In[184]:106 [inlined]",
      " [30] symmetricADHessian(::Function, ::Array{Float64,3}) at .\\In[184]:109",
      " [31] #329 at .\\In[184]:114 [inlined]",
      " [32] cubicReg(::typeof(f), ::Array{Float64,3}; grad::var\"#328#335\"{typeof(f)}, H::var\"#329#336\"{typeof(f)}, errFcn::typeof(errFcn), errTol::Float64, maxIts::Int64, subMaxIts::Int64, sigma::Int64, sigma_min::Float64, eta1::Float64, eta2::Float64, kappa_easy::Float64) at .\\In[184]:126",
      " [33] top-level scope at In[197]:1",
      " [34] include_string(::Function, ::Module, ::String, ::String) at .\\loading.jl:1091"
     ]
    }
   ],
   "source": [
    "x,out=cubicReg(f,x0,errFcn=errFcn,maxIts=100)"
   ]
  },
  {
   "cell_type": "code",
   "execution_count": 183,
   "metadata": {},
   "outputs": [
    {
     "data": {
      "text/plain": [
       "5×16×16 Array{Float64,3}:\n",
       "[:, :, 1] =\n",
       " -1.05809     1.43011   -1.06013   …  -2.01152    0.157993  -0.21811\n",
       " -0.67497    -2.0709     0.337922     -1.52568   -1.97159    0.841689\n",
       " -1.58103    -0.136079  -1.04709      -0.972229   0.617544   0.640773\n",
       " -0.0863834  -0.516513  -0.181756      0.946201   0.639002   0.468749\n",
       " -1.04876     0.675595   0.878735     -1.09678    0.540015  -1.02484\n",
       "\n",
       "[:, :, 2] =\n",
       " -2.84378    0.223899    0.82349   …   0.558098   1.57644    -0.912203\n",
       " -1.21912   -0.45687    -1.85352       1.11227   -0.218581    1.02207\n",
       " -1.12812    0.0137743  -0.544314      0.324933  -0.868963   -1.48228\n",
       " -0.512201   0.97034     1.17694      -0.398024  -0.732344    0.358748\n",
       " -1.803     -1.49788     0.199588     -0.885376   0.0335692   0.153858\n",
       "\n",
       "[:, :, 3] =\n",
       "  0.944523  -0.545621  -2.76242    …  -1.5349     -1.05157   -0.389382\n",
       " -0.110493  -1.14249    0.0159174     -0.284528    1.06527    0.217642\n",
       " -1.10828   -0.476028  -1.03166        2.07656    -0.527199  -0.691598\n",
       " -1.4691    -0.110538   0.734734       1.5157      0.954505  -0.373164\n",
       "  1.58637   -1.18756    0.244878       0.0784001   1.68939   -1.82412\n",
       "\n",
       "...\n",
       "\n",
       "[:, :, 14] =\n",
       "  1.9104     -0.0742821  -0.388894  …   0.744492   0.373777  -0.613365\n",
       " -0.0256917  -0.547182    0.535103      0.522324  -0.382909  -0.412974\n",
       "  0.658774    2.16376    -0.775893     -0.293824   0.179726  -0.287805\n",
       "  2.24279    -0.200222    0.360931      1.02698   -0.252518   0.528281\n",
       " -0.376101    0.438441    0.459252      1.73661   -0.290289  -0.731631\n",
       "\n",
       "[:, :, 15] =\n",
       "  1.41912    0.565212   2.52845   …   0.773819   -1.55807    1.2494\n",
       " -0.584187  -1.81155    0.589864      0.0522967   1.05763   -0.0157678\n",
       " -0.30259    0.183748  -0.999274      1.20728    -0.169499   0.241253\n",
       " -0.582805   0.684743  -0.408835     -0.0815756   0.842133  -0.779354\n",
       "  1.98048   -0.336007   1.17539       0.985204   -0.684969  -0.0493255\n",
       "\n",
       "[:, :, 16] =\n",
       "  0.85445     0.212623  -0.0288397  …  -0.64136     0.15606   -1.95935\n",
       " -1.30921     1.31116    0.100181       1.16021    -0.932943   0.285877\n",
       " -0.0521571  -0.683566  -1.56629        0.980756    0.268901  -1.48148\n",
       " -0.462539   -1.43766    1.79771       -1.15067     0.312955   0.588638\n",
       " -1.00385    -0.136888   0.391992      -0.0472509  -0.491464  -0.618988"
      ]
     },
     "execution_count": 183,
     "metadata": {},
     "output_type": "execute_result"
    }
   ],
   "source": [
    "#finite difference didn't work?\n",
    "out = Optim.minimizer(optimize(f, x0, GradientDescent(); autodiff = :finite))"
   ]
  },
  {
   "cell_type": "code",
   "execution_count": 177,
   "metadata": {},
   "outputs": [
    {
     "data": {
      "text/plain": [
       "10×16×16 Array{Complex{Float64},3}:\n",
       "[:, :, 1] =\n",
       "   0.0814506+0.0373357im   …   -0.0252001-0.0573191im\n",
       "   0.0546543+0.0504185im       -0.0279451-0.0419956im\n",
       "    0.003594+0.0406862im       0.00385038-0.0276565im\n",
       "   0.0375266+0.0594277im       -0.0153071-0.0379588im\n",
       "   0.0595916+0.0523624im        -0.029199-0.0358465im\n",
       "   0.0533383+0.0145997im   …   -0.0297059-0.0132751im\n",
       "   0.0300427+0.0609074im      -0.00756306-0.035052im\n",
       "   0.0425572+0.056952im        -0.0145043-0.0343847im\n",
       " -0.00385668+0.0389097im       0.00638952-0.0194018im\n",
       "    0.047514+0.00203447im      -0.0239302-0.00629259im\n",
       "\n",
       "[:, :, 2] =\n",
       "  0.0141331-0.0866546im    -0.054456-0.0663416im  …    0.0549003-0.0269754im\n",
       "  0.0173184-0.0534016im   -0.0262691-0.0324429im         0.02618-0.0268865im\n",
       "  0.0407787-0.0132698im    0.0071516-0.0312716im       0.0290284+0.0041615im\n",
       "  0.0159705-0.0398002im   -0.0178352-0.017723im         0.016975-0.0168224im\n",
       "  0.0342977-0.0700919im   -0.0317961-0.0341509im       0.0337858-0.0293134im\n",
       " 0.00603372-0.0450164im    -0.026073-0.0114977im  …    0.0136538-0.0244109im\n",
       "  0.0129263-0.034496im    -0.0149781-0.0112038im       0.0136261-0.0119087im\n",
       "  0.0256785-0.0473662im   -0.0202829-0.0194298im       0.0226901-0.014954im\n",
       "  0.0407099-0.00522935im  0.00172502-0.0217521im       0.0203672+0.00679206im\n",
       " -0.0360579-0.0519066im   -0.0342697+0.0149287im     -0.00474457-0.0359413im\n",
       "\n",
       "[:, :, 3] =\n",
       " -0.00399004-0.101042im    …    0.0125367-0.0702075im\n",
       "  -0.0275997-0.0866286im       -0.0339835-0.0534598im\n",
       "   0.0467315+0.00410919im       0.0314051-0.00643438im\n",
       "  -0.0276307-0.084989im          -0.03226-0.0443604im\n",
       "   0.0218802-0.0860464im      -0.00553257-0.0534827im\n",
       "   0.0784754+0.0369839im   …    0.0503499+0.00599284im\n",
       "  -0.0266512-0.0835274im       -0.0265155-0.0422267im\n",
       "  -0.0105854-0.0856805im       -0.0187522-0.0450362im\n",
       "   0.0432154+0.0121581im        0.0235048-0.000485668im\n",
       "   0.0718107+0.0395405im        0.0423576+0.01189im\n",
       "\n",
       "...\n",
       "\n",
       "[:, :, 14] =\n",
       " 0.0811992+0.0511287im   0.0951234-0.00171181im  …  -0.00565795-0.0664727im\n",
       " 0.0654991+0.0567883im   0.0672888-0.00111017im      -0.0231928-0.0537303im\n",
       " 0.0494746+0.0111952im   0.0325553-0.0195347im       -0.0278567-0.02078im\n",
       " 0.0492575+0.0584496im   0.0487428-0.0018753im       -0.0127002-0.043081im\n",
       " 0.0563369+0.0638453im   0.0527098-0.00433676im      -0.0164366-0.0469949im\n",
       " 0.0492901-0.0733863im  -0.0212996-0.0513927im   …   -0.0436958+0.0311336im\n",
       " 0.0426258+0.0566938im    0.040522-0.00386523im     -0.00567006-0.0381671im\n",
       " 0.0517277+0.0645372im   0.0459747-0.00642735im      -0.0086654-0.0434957im\n",
       " 0.0445229+0.0193367im   0.0199782-0.016398im        -0.0174012-0.0185837im\n",
       " 0.0218127-0.0836817im   -0.037574-0.0336351im       -0.0313121+0.0375615im\n",
       "\n",
       "[:, :, 15] =\n",
       "  0.0159275-0.0482769im   …   -0.0266064-0.0244276im\n",
       " -0.0251094-0.0600549im       -0.0412849+0.0194507im\n",
       "  0.0466527-0.00492383im     -0.00588809-0.0315121im\n",
       " -0.0353563-0.0686094im       -0.0398248+0.0259946im\n",
       "  0.0254793-0.036396im        -0.0245757-0.0117205im\n",
       "    0.05541-0.0518995im   …   -0.0337315-0.0273826im\n",
       " -0.0383522-0.0723083im       -0.0402903+0.0235306im\n",
       " -0.0128653-0.0603682im       -0.0340919+0.00961051im\n",
       "  0.0447445+0.00364979im     -7.74549e-5-0.0235096im\n",
       "  0.0399405-0.0342535im        -0.018161-0.0193035im\n",
       "\n",
       "[:, :, 16] =\n",
       "  0.0198895-0.0593711im     0.044336-0.042143im    …  -0.00130539-0.0440881im\n",
       " 0.00755406-0.0498748im    0.0169535-0.0334791im       -0.0223935-0.0264679im\n",
       "  0.0424441+0.00612246im   0.0287199+0.0142908im        0.0223005-0.0190435im\n",
       "   0.014194-0.0383889im     0.011175-0.0211249im       -0.0126816-0.0196795im\n",
       "  0.0320404-0.0449646im    0.0221069-0.024841im       -0.00976221-0.0309769im\n",
       "  0.0669061-0.0415591im    0.0432717-0.0199195im   …   0.00479992-0.0456311im\n",
       "  0.0179714-0.0310302im   0.00944671-0.0154352im      -0.00561848-0.0168873im\n",
       "  0.0160371-0.045527im    0.00805013-0.024139im        -0.0125995-0.0217802im\n",
       "  0.0388283+0.0133043im    0.0207398+0.00678171im       0.0185537-0.0108035im\n",
       "  0.0669499-0.0231672im    0.0361612-0.012265im         0.0146051-0.03421im"
      ]
     },
     "execution_count": 177,
     "metadata": {},
     "output_type": "execute_result"
    }
   ],
   "source": [
    "# verify\n",
    "e = zeros(ComplexF64,(npl+2,nmod,nx,ny)) \n",
    "e_m = e_in # modulated field\n",
    "\n",
    "e_o = propagatedOutput(e_m,airKernels,out,pfft,pifft)\n"
   ]
  },
  {
   "cell_type": "code",
   "execution_count": 178,
   "metadata": {},
   "outputs": [
    {
     "data": {
      "image/png": "[encoded data removed]",
      "text/plain": [
       "Figure(PyObject <Figure size 640x480 with 2 Axes>)"
      ]
     },
     "metadata": {},
     "output_type": "display_data"
    },
    {
     "data": {
      "image/png": "[encoded data removed]",
      "text/plain": [
       "Figure(PyObject <Figure size 640x480 with 2 Axes>)"
      ]
     },
     "metadata": {},
     "output_type": "display_data"
    },
    {
     "data": {
      "text/plain": [
       "PyObject <matplotlib.colorbar.Colorbar object at 0x0000000001E176A0>"
      ]
     },
     "execution_count": 178,
     "metadata": {},
     "output_type": "execute_result"
    }
   ],
   "source": [
    "fig, ax = plt.subplots()\n",
    "img=ax.imshow(real(out[1,:,:]),extent=(x[1],x[end],y[1],y[end]))\n",
    "cbar=plt.colorbar(img)\n",
    "\n",
    "fig, ax = plt.subplots()\n",
    "img=ax.imshow(real(out[2,:,:]),extent=(x[1],x[end],y[1],y[end]))\n",
    "cbar=plt.colorbar(img)"
   ]
  },
  {
   "cell_type": "code",
   "execution_count": 181,
   "metadata": {},
   "outputs": [
    {
     "data": {
      "image/png": "[encoded data removed]",
      "text/plain": [
       "Figure(PyObject <Figure size 640x480 with 2 Axes>)"
      ]
     },
     "metadata": {},
     "output_type": "display_data"
    },
    {
     "data": {
      "text/plain": [
       "PyObject <matplotlib.colorbar.Colorbar object at 0x0000000002009D00>"
      ]
     },
     "execution_count": 181,
     "metadata": {},
     "output_type": "execute_result"
    }
   ],
   "source": [
    "fig, ax = plt.subplots()\n",
    "img = ax.imshow(np.abs(e_o[1,:,:]),extent=(x[1],x[end],y[1],y[end]))\n",
    "cbar = plt.colorbar(img)"
   ]
  },
  {
   "cell_type": "code",
   "execution_count": null,
   "metadata": {},
   "outputs": [],
   "source": []
  }
 ],
 "metadata": {
  "kernelspec": {
   "display_name": "JuliaPro_v1.5.3-1 1.5.3",
   "language": "julia",
   "name": "juliapro_v1.5.3-1-1.5"
  },
  "language_info": {
   "file_extension": ".jl",
   "mimetype": "application/julia",
   "name": "julia",
   "version": "1.5.3"
  }
 },
 "nbformat": 4,
 "nbformat_minor": 4
}
